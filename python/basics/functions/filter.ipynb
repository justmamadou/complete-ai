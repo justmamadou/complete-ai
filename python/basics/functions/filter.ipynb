{
 "cells": [
  {
   "cell_type": "markdown",
   "metadata": {},
   "source": [
    "## filter() Function in python"
   ]
  },
  {
   "cell_type": "markdown",
   "metadata": {},
   "source": []
  },
  {
   "cell_type": "code",
   "execution_count": 1,
   "metadata": {},
   "outputs": [
    {
     "name": "stdout",
     "output_type": "stream",
     "text": [
      "[2, 4, 6, 8]\n"
     ]
    }
   ],
   "source": [
    "event = list(filter(lambda x:x%2==0,[1,2,3,4,6,7,8]))\n",
    "print(event)"
   ]
  },
  {
   "cell_type": "code",
   "execution_count": 1,
   "metadata": {},
   "outputs": [
    {
     "name": "stdout",
     "output_type": "stream",
     "text": [
      "[6, 7, 8, 10]\n"
     ]
    }
   ],
   "source": [
    "greather_than_five=list(filter(lambda x:x>5, [1,2,3,6,7,8,10]))\n",
    "print(greather_than_five)"
   ]
  },
  {
   "cell_type": "code",
   "execution_count": 2,
   "metadata": {},
   "outputs": [
    {
     "name": "stdout",
     "output_type": "stream",
     "text": [
      "[6, 8, 10, 12]\n"
     ]
    }
   ],
   "source": [
    "## FIlter with lambda and multiple conditions\n",
    "\n",
    "numbers = [1,2,3,6,7,8,10,12]\n",
    "even_and_greater_than_five = list(filter(lambda x:x%2==0 and x>5, numbers))\n",
    "print(even_and_greater_than_five)"
   ]
  },
  {
   "cell_type": "code",
   "execution_count": 5,
   "metadata": {},
   "outputs": [
    {
     "name": "stdout",
     "output_type": "stream",
     "text": [
      "[{'name': 'Mamadou', 'age': 26}, {'name': 'zoro', 'age': 28}]\n"
     ]
    }
   ],
   "source": [
    "## Filter() to check if the age is greater than 25 in dictionaries\n",
    "people = [\n",
    "    {'name': 'Mamadou', 'age':26},\n",
    "    {'name': 'luffy', 'age':18},\n",
    "    {'name': 'zoro', 'age':28}\n",
    "]\n",
    "\n",
    "age_greather_than_twenty_five = list(filter(lambda x: x['age']>25, people))\n",
    "print(age_greather_than_twenty_five)"
   ]
  },
  {
   "cell_type": "code",
   "execution_count": null,
   "metadata": {},
   "outputs": [],
   "source": []
  }
 ],
 "metadata": {
  "kernelspec": {
   "display_name": "Python 3",
   "language": "python",
   "name": "python3"
  },
  "language_info": {
   "codemirror_mode": {
    "name": "ipython",
    "version": 3
   },
   "file_extension": ".py",
   "mimetype": "text/x-python",
   "name": "python",
   "nbconvert_exporter": "python",
   "pygments_lexer": "ipython3",
   "version": "3.12.9"
  }
 },
 "nbformat": 4,
 "nbformat_minor": 2
}
